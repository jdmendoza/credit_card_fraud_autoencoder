{
 "cells": [
  {
   "cell_type": "markdown",
   "metadata": {},
   "source": [
    "# Detecting Credit Card Fraud With Autoencoder\n",
    "\n",
    "\n",
    "Objective: Test autoencoder performance for fraud detection\n",
    "\n",
    "Approach: Apply a simple model and complex model to compare against autoencoder."
   ]
  },
  {
   "cell_type": "code",
   "execution_count": 1,
   "metadata": {},
   "outputs": [],
   "source": [
    "import pandas as pd\n",
    "import numpy as np\n",
    "\n",
    "from sklearn.model_selection import train_test_split, cross_val_score\n",
    "from tqdm import tqdm, tqdm_notebook\n",
    "\n",
    "\n",
    "df_raw = pd.read_csv(\"data/creditcard.csv\")"
   ]
  },
  {
   "cell_type": "markdown",
   "metadata": {},
   "source": [
    "## **Dataset Notes**\n",
    "\n",
    "**Features:**\n",
    "\n",
    "**Time:** Number of seconds elapsed between this transaction and the first transaction in the dataset\n",
    "\n",
    "**V1-V28:** may be result of a PCA Dimensionality reduction to protect user identities and sensitive features\n",
    "\n",
    "**Amount:** Transaction amount\n",
    "\n",
    "**Class:** 1 for fraudulent transactions, 0 otherwise"
   ]
  },
  {
   "cell_type": "code",
   "execution_count": 2,
   "metadata": {},
   "outputs": [],
   "source": [
    "from sklearn.preprocessing import StandardScaler\n",
    "\n",
    "df = df_raw\n",
    "df['Time'] = StandardScaler().fit_transform(df['Time'].values.reshape(-1, 1))\n",
    "df['Amount'] = StandardScaler().fit_transform(df['Amount'].values.reshape(-1, 1))"
   ]
  },
  {
   "cell_type": "code",
   "execution_count": 3,
   "metadata": {},
   "outputs": [],
   "source": [
    "y = df['Class']\n",
    "X = df.drop(['Class'],axis=1)\n",
    "\n",
    "X_train, X_test, y_train, y_test = train_test_split(X, y, test_size=0.2, stratify=y, random_state=10)"
   ]
  },
  {
   "cell_type": "markdown",
   "metadata": {},
   "source": [
    "# Comparison Function"
   ]
  },
  {
   "cell_type": "code",
   "execution_count": 5,
   "metadata": {},
   "outputs": [],
   "source": [
    "from sklearn.metrics import confusion_matrix\n",
    "from sklearn.metrics import accuracy_score\n",
    "\n",
    "def final_model_test(X_all, y_all, X_test, y_test, model):\n",
    "    \n",
    "    model.fit(X_all, y_all)\n",
    "    y_pred = model.predict(X_test)\n",
    "    y_true = y_test\n",
    "    conf = confusion_matrix(y_true, y_pred)\n",
    "    tn, fp, fn, tp = conf.ravel()\n",
    "\n",
    "    print(\"Model Results\")\n",
    "\n",
    "    print(conf)\n",
    "\n",
    "    precision = (tp / (tp + fp))\n",
    "    recall = (tp / (tp + fn))\n",
    "    f1_score = 2*precision*recall/(precision + recall)\n",
    "\n",
    "    print ('\\n')\n",
    "    print (\"Accuracy:              %0.4f\" % accuracy_score(y_pred,y_true))\n",
    "    print (\"Precision:              %0.4f\" % precision)\n",
    "    print (\"Recall:                 %0.4f\"% recall)\n",
    "    print (\"F1 Score:               %0.4f\"% f1_score)\n"
   ]
  },
  {
   "cell_type": "code",
   "execution_count": 6,
   "metadata": {},
   "outputs": [],
   "source": [
    "from sklearn.metrics import roc_curve, auc\n",
    "\n",
    "def generate_auc(X_all, y_all, X_test, y_test, model):\n",
    "    model.fit(X_all, y_all)\n",
    "    y_pred = model.predict(X_test)\n",
    "\n",
    "    y_score=model.predict_proba(X_test)[:,1]\n",
    "\n",
    "    FPR, TPR, thresholds = roc_curve(y_test, y_score)\n",
    "    roc_auc = auc(FPR, TPR)\n",
    "    \n",
    "    print (\"AUC:               %0.4f\"% roc_auc)\n",
    "\n",
    "    # Plotting our Baseline..\n",
    "    plt.plot([0,1],[0,1])\n",
    "    plt.plot(FPR,TPR)\n",
    "    plt.title('ROC Curve')\n",
    "    plt.xlabel('FPR')\n",
    "    plt.ylabel('TPR')\n",
    "    plt.figure()"
   ]
  },
  {
   "cell_type": "markdown",
   "metadata": {},
   "source": [
    "# Logistic Regression"
   ]
  },
  {
   "cell_type": "code",
   "execution_count": 7,
   "metadata": {
    "scrolled": true
   },
   "outputs": [
    {
     "name": "stdout",
     "output_type": "stream",
     "text": [
      "Model Results\n",
      "[[227420     31]\n",
      " [   146    248]]\n",
      "\n",
      "\n",
      "Accuracy:              0.9992\n",
      "Precision:              0.8889\n",
      "Recall:                 0.6294\n",
      "F1 Score:               0.7370\n"
     ]
    }
   ],
   "source": [
    "from sklearn.linear_model import LogisticRegression\n",
    "\n",
    "baseline_model = LogisticRegression(solver='lbfgs')\n",
    "final_model_test(X_train, y_train, X_train, y_train, baseline_model)"
   ]
  },
  {
   "cell_type": "code",
   "execution_count": 8,
   "metadata": {},
   "outputs": [
    {
     "name": "stdout",
     "output_type": "stream",
     "text": [
      "AUC:               0.9890\n"
     ]
    },
    {
     "data": {
      "image/png": "[encoded data removed]",
      "text/plain": [
       "<Figure size 432x288 with 1 Axes>"
      ]
     },
     "metadata": {
      "needs_background": "light"
     },
     "output_type": "display_data"
    },
    {
     "data": {
      "text/plain": [
       "<Figure size 432x288 with 0 Axes>"
      ]
     },
     "metadata": {},
     "output_type": "display_data"
    }
   ],
   "source": [
    "generate_auc(X_train, y_train, X_test, y_test, baseline_model)"
   ]
  },
  {
   "cell_type": "markdown",
   "metadata": {},
   "source": [
    "# Bayesian Optimization + Light GMB"
   ]
  },
  {
   "cell_type": "code",
   "execution_count": 9,
   "metadata": {},
   "outputs": [
    {
     "name": "stderr",
     "output_type": "stream",
     "text": [
      "/Library/Frameworks/Python.framework/Versions/3.6/lib/python3.6/site-packages/lightgbm/__init__.py:46: UserWarning: Starting from version 2.2.1, the library file in distribution wheels for macOS is built by the Apple Clang (Xcode_9.4.1) compiler.\n",
      "This means that in case of installing LightGBM from PyPI via the ``pip install lightgbm`` command, you don't need to install the gcc compiler anymore.\n",
      "Instead of that, you need to install the OpenMP library, which is required for running LightGBM on the system with the Apple Clang compiler.\n",
      "You can install the OpenMP library by the following command: ``brew install libomp``.\n",
      "  \"You can install the OpenMP library by the following command: ``brew install libomp``.\", UserWarning)\n",
      "/Library/Frameworks/Python.framework/Versions/3.6/lib/python3.6/site-packages/sklearn/metrics/classification.py:1143: UndefinedMetricWarning: F-score is ill-defined and being set to 0.0 due to no predicted samples.\n",
      "  'precision', 'predicted', average, warn_for)\n",
      "/Library/Frameworks/Python.framework/Versions/3.6/lib/python3.6/site-packages/sklearn/metrics/classification.py:1143: UndefinedMetricWarning: F-score is ill-defined and being set to 0.0 due to no predicted samples.\n",
      "  'precision', 'predicted', average, warn_for)\n",
      "/Library/Frameworks/Python.framework/Versions/3.6/lib/python3.6/site-packages/sklearn/metrics/classification.py:1143: UndefinedMetricWarning: F-score is ill-defined and being set to 0.0 due to no predicted samples.\n",
      "  'precision', 'predicted', average, warn_for)\n",
      "/Library/Frameworks/Python.framework/Versions/3.6/lib/python3.6/site-packages/sklearn/metrics/classification.py:1143: UndefinedMetricWarning: F-score is ill-defined and being set to 0.0 due to no predicted samples.\n",
      "  'precision', 'predicted', average, warn_for)\n",
      "/Library/Frameworks/Python.framework/Versions/3.6/lib/python3.6/site-packages/sklearn/metrics/classification.py:1143: UndefinedMetricWarning: F-score is ill-defined and being set to 0.0 due to no predicted samples.\n",
      "  'precision', 'predicted', average, warn_for)\n"
     ]
    }
   ],
   "source": [
    "import lightgbm as lgb\n",
    "from skopt import gp_minimize\n",
    "\n",
    "def objective(params):\n",
    "    learning_rate = 10. ** params[0]\n",
    "    num_leaves = params[1]\n",
    "    n_estimators = params[2]\n",
    "\n",
    "    lgbm = lgb.LGBMClassifier(\n",
    "        learning_rate=learning_rate,\n",
    "        num_leaves=num_leaves,\n",
    "        max_depth=8,\n",
    "        n_estimators=n_estimators,\n",
    "        verbose=0,\n",
    "    )\n",
    "\n",
    "    return -np.mean(cross_val_score(lgbm, X_train, y_train, cv=10, scoring='f1'))\n",
    "\n",
    "search_space = [(-5.0, 0.0), (2, 100), (2, 300)]\n",
    "\n",
    "r = gp_minimize(objective, search_space, n_calls=20, random_state=42, n_jobs=-1, verbose=False)"
   ]
  },
  {
   "cell_type": "code",
   "execution_count": 10,
   "metadata": {},
   "outputs": [
    {
     "data": {
      "text/plain": [
       "[-1.6698105254120374, 100, 300]"
      ]
     },
     "execution_count": 10,
     "metadata": {},
     "output_type": "execute_result"
    },
    {
     "data": {
      "image/png": "[encoded data removed]",
      "text/plain": [
       "<Figure size 432x288 with 1 Axes>"
      ]
     },
     "metadata": {
      "needs_background": "light"
     },
     "output_type": "display_data"
    }
   ],
   "source": [
    "from skopt.plots import plot_convergence\n",
    "\n",
    "plot_convergence(r)\n",
    "best_params = r.x\n",
    "best_params"
   ]
  },
  {
   "cell_type": "code",
   "execution_count": 11,
   "metadata": {},
   "outputs": [],
   "source": [
    "final_lgbm = lgb.LGBMClassifier(num_leaves=best_params[1],\n",
    "                        learning_rate= 10 ** best_params[0],\n",
    "                        n_estimators=best_params[2],\n",
    "                        verbose=1)"
   ]
  },
  {
   "cell_type": "code",
   "execution_count": 12,
   "metadata": {},
   "outputs": [
    {
     "name": "stdout",
     "output_type": "stream",
     "text": [
      "Model Results\n",
      "[[56860     4]\n",
      " [   22    76]]\n",
      "\n",
      "\n",
      "Accuracy:              0.9995\n",
      "Precision:              0.9500\n",
      "Recall:                 0.7755\n",
      "F1 Score:               0.8539\n"
     ]
    }
   ],
   "source": [
    "final_model_test(X_train, y_train, X_test, y_test, final_lgbm)"
   ]
  },
  {
   "cell_type": "code",
   "execution_count": 13,
   "metadata": {},
   "outputs": [
    {
     "name": "stdout",
     "output_type": "stream",
     "text": [
      "AUC:               0.9733\n"
     ]
    },
    {
     "data": {
      "image/png": "[encoded data removed]",
      "text/plain": [
       "<Figure size 432x288 with 1 Axes>"
      ]
     },
     "metadata": {
      "needs_background": "light"
     },
     "output_type": "display_data"
    },
    {
     "data": {
      "text/plain": [
       "<Figure size 432x288 with 0 Axes>"
      ]
     },
     "metadata": {},
     "output_type": "display_data"
    }
   ],
   "source": [
    "generate_auc(X_train, y_train, X_test, y_test, final_lgbm)"
   ]
  },
  {
   "cell_type": "markdown",
   "metadata": {},
   "source": [
    "# Autoencoder Experiment"
   ]
  },
  {
   "cell_type": "code",
   "execution_count": 14,
   "metadata": {},
   "outputs": [],
   "source": [
    "#Split data by class for training/testing\n",
    "X_autoencoder = df.query('Class == 0').drop(['Class'],axis=1)\n",
    "Y_fraud = df.query('Class == 1').drop(['Class'],axis=1)\n",
    "\n",
    "X_train_autoencoder = X_autoencoder.sample(frac=0.8,random_state=42)\n",
    "X_test_autoencoder = X_autoencoder.drop(X_train_autoencoder.index)"
   ]
  },
  {
   "cell_type": "code",
   "execution_count": 15,
   "metadata": {},
   "outputs": [],
   "source": [
    "from sklearn.metrics import mean_squared_error\n",
    "\n",
    "#Renaming mse function to be consistent with literature\n",
    "reconstruction_loss = mean_squared_error\n"
   ]
  },
  {
   "cell_type": "code",
   "execution_count": 16,
   "metadata": {},
   "outputs": [
    {
     "name": "stderr",
     "output_type": "stream",
     "text": [
      "Using TensorFlow backend.\n",
      "/Library/Frameworks/Python.framework/Versions/3.6/lib/python3.6/importlib/_bootstrap.py:219: RuntimeWarning: compiletime version 3.5 of module 'tensorflow.python.framework.fast_tensor_util' does not match runtime version 3.6\n",
      "  return f(*args, **kwds)\n"
     ]
    },
    {
     "name": "stdout",
     "output_type": "stream",
     "text": [
      "Train on 227452 samples, validate on 56863 samples\n",
      "Epoch 1/100\n",
      "227452/227452 [==============================] - 10s 44us/step - loss: 0.6866 - val_loss: 0.6417\n",
      "Epoch 2/100\n",
      "227452/227452 [==============================] - 10s 46us/step - loss: 0.6286 - val_loss: 0.6276\n",
      "Epoch 3/100\n",
      "227452/227452 [==============================] - 10s 44us/step - loss: 0.6200 - val_loss: 0.6227\n",
      "Epoch 4/100\n",
      "227452/227452 [==============================] - 10s 44us/step - loss: 0.6162 - val_loss: 0.6201\n",
      "Epoch 5/100\n",
      "227452/227452 [==============================] - 16s 71us/step - loss: 0.6144 - val_loss: 0.6194\n",
      "Epoch 6/100\n",
      "227452/227452 [==============================] - 12s 51us/step - loss: 0.6132 - val_loss: 0.6168\n",
      "Epoch 7/100\n",
      "227452/227452 [==============================] - 11s 48us/step - loss: 0.6124 - val_loss: 0.6169\n",
      "Epoch 8/100\n",
      "227452/227452 [==============================] - 15s 66us/step - loss: 0.6117 - val_loss: 0.6163\n",
      "Epoch 9/100\n",
      "227452/227452 [==============================] - 11s 49us/step - loss: 0.6106 - val_loss: 0.6142\n",
      "Epoch 10/100\n",
      "227452/227452 [==============================] - 10s 45us/step - loss: 0.6098 - val_loss: 0.6141\n",
      "Epoch 11/100\n",
      "227452/227452 [==============================] - 10s 45us/step - loss: 0.6088 - val_loss: 0.6124\n",
      "Epoch 12/100\n",
      "227452/227452 [==============================] - 10s 44us/step - loss: 0.6080 - val_loss: 0.6138\n",
      "Epoch 13/100\n",
      "227452/227452 [==============================] - 10s 43us/step - loss: 0.6077 - val_loss: 0.6113\n",
      "Epoch 14/100\n",
      "227452/227452 [==============================] - 10s 43us/step - loss: 0.6073 - val_loss: 0.6114\n",
      "Epoch 15/100\n",
      "227452/227452 [==============================] - 9s 42us/step - loss: 0.6070 - val_loss: 0.6120\n",
      "Epoch 16/100\n",
      "227452/227452 [==============================] - 9s 41us/step - loss: 0.6067 - val_loss: 0.6107\n",
      "Epoch 17/100\n",
      "227452/227452 [==============================] - 10s 42us/step - loss: 0.6063 - val_loss: 0.6155\n",
      "Epoch 18/100\n",
      "227452/227452 [==============================] - 9s 41us/step - loss: 0.6062 - val_loss: 0.6107\n",
      "Epoch 19/100\n",
      "227452/227452 [==============================] - 9s 39us/step - loss: 0.6057 - val_loss: 0.6170\n",
      "Epoch 20/100\n",
      "227452/227452 [==============================] - 9s 40us/step - loss: 0.6055 - val_loss: 0.6095\n",
      "Epoch 21/100\n",
      "227452/227452 [==============================] - 9s 40us/step - loss: 0.6053 - val_loss: 0.6091\n",
      "Epoch 22/100\n",
      "227452/227452 [==============================] - 9s 40us/step - loss: 0.6050 - val_loss: 0.6097\n",
      "Epoch 23/100\n",
      "227452/227452 [==============================] - 9s 39us/step - loss: 0.6048 - val_loss: 0.6094\n",
      "Epoch 24/100\n",
      "227452/227452 [==============================] - 9s 40us/step - loss: 0.6045 - val_loss: 0.6084\n",
      "Epoch 25/100\n",
      "227452/227452 [==============================] - 9s 39us/step - loss: 0.6044 - val_loss: 0.6113\n",
      "Epoch 26/100\n",
      "227452/227452 [==============================] - 9s 41us/step - loss: 0.6044 - val_loss: 0.6085\n",
      "Epoch 27/100\n",
      "227452/227452 [==============================] - 9s 41us/step - loss: 0.6041 - val_loss: 0.6113\n",
      "Epoch 28/100\n",
      "227452/227452 [==============================] - 9s 41us/step - loss: 0.6044 - val_loss: 0.6083\n",
      "Epoch 29/100\n",
      "227452/227452 [==============================] - 9s 41us/step - loss: 0.6040 - val_loss: 0.6080\n",
      "Epoch 30/100\n",
      "227452/227452 [==============================] - 10s 42us/step - loss: 0.6039 - val_loss: 0.6075\n",
      "Epoch 31/100\n",
      "227452/227452 [==============================] - 10s 45us/step - loss: 0.6040 - val_loss: 0.6079\n",
      "Epoch 32/100\n",
      "227452/227452 [==============================] - 12s 51us/step - loss: 0.6038 - val_loss: 0.6087\n",
      "Epoch 33/100\n",
      "227452/227452 [==============================] - 12s 53us/step - loss: 0.6037 - val_loss: 0.6070\n",
      "Epoch 34/100\n",
      "227452/227452 [==============================] - 11s 50us/step - loss: 0.6038 - val_loss: 0.6084\n",
      "Epoch 35/100\n",
      "227452/227452 [==============================] - 11s 49us/step - loss: 0.6036 - val_loss: 0.6079\n",
      "Epoch 36/100\n",
      "227452/227452 [==============================] - 10s 43us/step - loss: 0.6035 - val_loss: 0.6078\n",
      "Epoch 37/100\n",
      "227452/227452 [==============================] - 10s 43us/step - loss: 0.6034 - val_loss: 0.6077\n",
      "Epoch 38/100\n",
      "227452/227452 [==============================] - 10s 43us/step - loss: 0.6031 - val_loss: 0.6071\n",
      "Epoch 39/100\n",
      "227452/227452 [==============================] - 10s 44us/step - loss: 0.6028 - val_loss: 0.6065\n",
      "Epoch 40/100\n",
      "227452/227452 [==============================] - 10s 43us/step - loss: 0.6022 - val_loss: 0.6089\n",
      "Epoch 41/100\n",
      "227452/227452 [==============================] - 10s 43us/step - loss: 0.6016 - val_loss: 0.6085\n",
      "Epoch 42/100\n",
      "227452/227452 [==============================] - 10s 43us/step - loss: 0.6015 - val_loss: 0.6052\n",
      "Epoch 43/100\n",
      "227452/227452 [==============================] - 10s 44us/step - loss: 0.6007 - val_loss: 0.6051\n",
      "Epoch 44/100\n",
      "227452/227452 [==============================] - 10s 43us/step - loss: 0.6004 - val_loss: 0.6072\n",
      "Epoch 45/100\n",
      "227452/227452 [==============================] - 10s 44us/step - loss: 0.6002 - val_loss: 0.6043\n",
      "Epoch 46/100\n",
      "227452/227452 [==============================] - 10s 43us/step - loss: 0.6001 - val_loss: 0.6046\n",
      "Epoch 47/100\n",
      "227452/227452 [==============================] - 10s 43us/step - loss: 0.5997 - val_loss: 0.6041\n",
      "Epoch 48/100\n",
      "227452/227452 [==============================] - 10s 45us/step - loss: 0.5995 - val_loss: 0.6038\n",
      "Epoch 49/100\n",
      "227452/227452 [==============================] - 10s 43us/step - loss: 0.5995 - val_loss: 0.6041\n",
      "Epoch 50/100\n",
      "227452/227452 [==============================] - 11s 49us/step - loss: 0.5993 - val_loss: 0.6064\n",
      "Epoch 51/100\n",
      "227452/227452 [==============================] - 10s 46us/step - loss: 0.5992 - val_loss: 0.6040\n",
      "Epoch 52/100\n",
      "227452/227452 [==============================] - 11s 47us/step - loss: 0.5991 - val_loss: 0.6043\n",
      "Epoch 53/100\n",
      "227452/227452 [==============================] - 11s 48us/step - loss: 0.5993 - val_loss: 0.6041\n",
      "Epoch 54/100\n",
      "227452/227452 [==============================] - 11s 48us/step - loss: 0.5991 - val_loss: 0.6037\n",
      "Epoch 55/100\n",
      "227452/227452 [==============================] - 11s 49us/step - loss: 0.5990 - val_loss: 0.6039\n",
      "Epoch 56/100\n",
      "227452/227452 [==============================] - 11s 50us/step - loss: 0.5991 - val_loss: 0.6029\n",
      "Epoch 57/100\n",
      "227452/227452 [==============================] - 11s 49us/step - loss: 0.5991 - val_loss: 0.6050\n",
      "Epoch 58/100\n",
      "227452/227452 [==============================] - 11s 51us/step - loss: 0.5988 - val_loss: 0.6023\n",
      "Epoch 59/100\n",
      "227452/227452 [==============================] - 11s 50us/step - loss: 0.5988 - val_loss: 0.6026\n",
      "Epoch 60/100\n",
      "227452/227452 [==============================] - 13s 58us/step - loss: 0.5988 - val_loss: 0.6039\n",
      "Epoch 61/100\n",
      "227452/227452 [==============================] - 12s 52us/step - loss: 0.5987 - val_loss: 0.6034\n",
      "Epoch 62/100\n",
      "227452/227452 [==============================] - 11s 48us/step - loss: 0.5991 - val_loss: 0.6038\n",
      "Epoch 63/100\n",
      "227452/227452 [==============================] - 11s 49us/step - loss: 0.5987 - val_loss: 0.6028\n",
      "Epoch 64/100\n",
      "227452/227452 [==============================] - 11s 50us/step - loss: 0.5987 - val_loss: 0.6028\n",
      "Epoch 65/100\n",
      "227452/227452 [==============================] - 11s 47us/step - loss: 0.5987 - val_loss: 0.6031\n",
      "Epoch 66/100\n",
      "227452/227452 [==============================] - 10s 46us/step - loss: 0.5987 - val_loss: 0.6024\n",
      "Epoch 67/100\n",
      "227452/227452 [==============================] - 11s 47us/step - loss: 0.5984 - val_loss: 0.6026\n",
      "Epoch 68/100\n",
      "227452/227452 [==============================] - 12s 52us/step - loss: 0.5986 - val_loss: 0.6029\n",
      "Epoch 69/100\n",
      "227452/227452 [==============================] - 10s 45us/step - loss: 0.5987 - val_loss: 0.6024\n",
      "Epoch 70/100\n",
      "227452/227452 [==============================] - 10s 45us/step - loss: 0.5984 - val_loss: 0.6027\n",
      "Epoch 71/100\n",
      "227452/227452 [==============================] - 12s 53us/step - loss: 0.5984 - val_loss: 0.6048\n",
      "Epoch 72/100\n",
      "227452/227452 [==============================] - 10s 45us/step - loss: 0.5983 - val_loss: 0.6031\n",
      "Epoch 73/100\n",
      "227452/227452 [==============================] - 10s 42us/step - loss: 0.5982 - val_loss: 0.6051\n",
      "Epoch 74/100\n",
      "227452/227452 [==============================] - 15s 66us/step - loss: 0.5984 - val_loss: 0.6031\n",
      "Epoch 75/100\n"
     ]
    },
    {
     "name": "stdout",
     "output_type": "stream",
     "text": [
      "227452/227452 [==============================] - 11s 47us/step - loss: 0.5983 - val_loss: 0.6050\n",
      "Epoch 76/100\n",
      "227452/227452 [==============================] - 11s 48us/step - loss: 0.5983 - val_loss: 0.6020\n",
      "Epoch 77/100\n",
      "227452/227452 [==============================] - 9s 38us/step - loss: 0.5983 - val_loss: 0.6023\n",
      "Epoch 78/100\n",
      "227452/227452 [==============================] - 9s 40us/step - loss: 0.5982 - val_loss: 0.6026\n",
      "Epoch 79/100\n",
      "227452/227452 [==============================] - 9s 37us/step - loss: 0.5982 - val_loss: 0.6022\n",
      "Epoch 80/100\n",
      "227452/227452 [==============================] - 8s 36us/step - loss: 0.5980 - val_loss: 0.6027\n",
      "Epoch 81/100\n",
      "227452/227452 [==============================] - 9s 40us/step - loss: 0.5981 - val_loss: 0.6019\n",
      "Epoch 82/100\n",
      "227452/227452 [==============================] - 9s 38us/step - loss: 0.5983 - val_loss: 0.6054\n",
      "Epoch 83/100\n",
      "227452/227452 [==============================] - 9s 40us/step - loss: 0.5982 - val_loss: 0.6023\n",
      "Epoch 84/100\n",
      "227452/227452 [==============================] - 9s 39us/step - loss: 0.5984 - val_loss: 0.6041\n",
      "Epoch 85/100\n",
      "227452/227452 [==============================] - 9s 38us/step - loss: 0.5982 - val_loss: 0.6025\n",
      "Epoch 86/100\n",
      "227452/227452 [==============================] - 9s 41us/step - loss: 0.5981 - val_loss: 0.6036\n",
      "Epoch 87/100\n",
      "227452/227452 [==============================] - 11s 48us/step - loss: 0.5980 - val_loss: 0.6043\n",
      "Epoch 88/100\n",
      "227452/227452 [==============================] - 9s 41us/step - loss: 0.5981 - val_loss: 0.6038\n",
      "Epoch 89/100\n",
      "227452/227452 [==============================] - 8s 36us/step - loss: 0.5980 - val_loss: 0.6026\n",
      "Epoch 90/100\n",
      "227452/227452 [==============================] - 8s 36us/step - loss: 0.5980 - val_loss: 0.6021\n",
      "Epoch 91/100\n",
      "227452/227452 [==============================] - 10s 42us/step - loss: 0.5978 - val_loss: 0.6023\n",
      "Epoch 92/100\n",
      "227452/227452 [==============================] - 8s 37us/step - loss: 0.5979 - val_loss: 0.6023\n",
      "Epoch 93/100\n",
      "227452/227452 [==============================] - 8s 37us/step - loss: 0.5979 - val_loss: 0.6025\n",
      "Epoch 94/100\n",
      "227452/227452 [==============================] - 10s 44us/step - loss: 0.5980 - val_loss: 0.6027\n",
      "Epoch 95/100\n",
      "227452/227452 [==============================] - 9s 40us/step - loss: 0.5979 - val_loss: 0.6032\n",
      "Epoch 96/100\n",
      "227452/227452 [==============================] - 9s 38us/step - loss: 0.5977 - val_loss: 0.6023\n",
      "Epoch 97/100\n",
      "227452/227452 [==============================] - 8s 35us/step - loss: 0.5978 - val_loss: 0.6022\n",
      "Epoch 98/100\n",
      "227452/227452 [==============================] - 8s 34us/step - loss: 0.5979 - val_loss: 0.6044\n",
      "Epoch 99/100\n",
      "227452/227452 [==============================] - 8s 34us/step - loss: 0.5979 - val_loss: 0.6023\n",
      "Epoch 100/100\n",
      "227452/227452 [==============================] - 8s 33us/step - loss: 0.5978 - val_loss: 0.6026\n"
     ]
    },
    {
     "data": {
      "text/plain": [
       "<keras.callbacks.History at 0x13835c0b8>"
      ]
     },
     "execution_count": 16,
     "metadata": {},
     "output_type": "execute_result"
    }
   ],
   "source": [
    "from keras.layers import Input, Dense\n",
    "from keras.models import Model, Sequential\n",
    "\n",
    "epochs = 100\n",
    "batch_size = 64\n",
    "input_dim = X_train_autoencoder.shape[1] #num of columns, 30\n",
    "encoding_dim = 16\n",
    "hidden_dim = 8 \n",
    "learning_rate = 1e-7\n",
    "\n",
    "input_layer = Input(shape=(input_dim, ))\n",
    "encoder = Dense(encoding_dim, activation=\"tanh\")(input_layer)\n",
    "encoder = Dense(hidden_dim, activation=\"relu\")(encoder)\n",
    "decoder = Dense(hidden_dim, activation='relu')(encoder)\n",
    "decoder = Dense(input_dim, activation='tanh')(decoder)\n",
    "autoencoder = Model(inputs=input_layer, outputs=decoder)\n",
    "\n",
    "autoencoder.compile(loss='mean_squared_error', optimizer='adam')\n",
    "\n",
    "autoencoder.fit(X_train_autoencoder, X_train_autoencoder, epochs=epochs, validation_data=(X_test_autoencoder, X_test_autoencoder))\n",
    "\n"
   ]
  },
  {
   "cell_type": "code",
   "execution_count": 17,
   "metadata": {},
   "outputs": [],
   "source": [
    "def predict(trained_model, set_threshold, input_data):\n",
    "    predicted_array = trained_model.predict(input_data)\n",
    "    instance_rec_loss = reconstruction_loss(input_data, predicted_array)\n",
    "    \n",
    "    if set_threshold == -1:\n",
    "        return instance_rec_loss\n",
    "    \n",
    "    elif instance_rec_loss >= set_threshold:\n",
    "        return 1\n",
    "    \n",
    "    else:\n",
    "        return 0"
   ]
  },
  {
   "cell_type": "code",
   "execution_count": 18,
   "metadata": {},
   "outputs": [
    {
     "data": {
      "application/vnd.jupyter.widget-view+json": {
       "model_id": "2d74157996db46f2b9f998ca6631ec09",
       "version_major": 2,
       "version_minor": 0
      },
      "text/plain": [
       "HBox(children=(IntProgress(value=0, max=284315), HTML(value='')))"
      ]
     },
     "metadata": {},
     "output_type": "display_data"
    },
    {
     "name": "stdout",
     "output_type": "stream",
     "text": [
      "\n"
     ]
    },
    {
     "data": {
      "application/vnd.jupyter.widget-view+json": {
       "model_id": "f069a2c31ef24ba8bc9084fa26caa6a0",
       "version_major": 2,
       "version_minor": 0
      },
      "text/plain": [
       "HBox(children=(IntProgress(value=0, max=492), HTML(value='')))"
      ]
     },
     "metadata": {},
     "output_type": "display_data"
    },
    {
     "name": "stdout",
     "output_type": "stream",
     "text": [
      "\n"
     ]
    }
   ],
   "source": [
    "from scipy import stats\n",
    "\n",
    "rec_loss_dist_nonfraud = [predict(autoencoder,-1,np.array(X_autoencoder.iloc[n:n+1,:])) for n in tqdm_notebook(range(len(X_autoencoder)))]\n",
    "rec_loss_dist_fraud = [predict(autoencoder,-1,np.array(Y_fraud.iloc[n:n+1,:])) for n in tqdm_notebook(range(len(Y_fraud)))]\n"
   ]
  },
  {
   "cell_type": "code",
   "execution_count": 19,
   "metadata": {},
   "outputs": [
    {
     "name": "stdout",
     "output_type": "stream",
     "text": [
      "Descriptive Statistics of Reconstruction Loss (ALL DATA) \n",
      "\n",
      "\n",
      "Non-Fraudulent Data Stats:\n",
      " DescribeResult(nobs=284315, minmax=(0.017202105374164188, 1787.0585972667238), mean=0.5987394223017254, variance=22.108229560998556, skewness=211.67287641084738, kurtosis=74581.84732999637)\n",
      "\n",
      "Fraudulent Data Stats:\n",
      " DescribeResult(nobs=492, minmax=(0.0911002002552423, 257.2054944288735), mean=24.057531492917363, variance=1213.7109917497041, skewness=2.4349316639785283, kurtosis=8.171171130440706)\n"
     ]
    }
   ],
   "source": [
    "print(\"Descriptive Statistics of Reconstruction Loss (ALL DATA) \\n\")\n",
    "\n",
    "nonfraud_stats = stats.describe(rec_loss_dist_nonfraud)\n",
    "print(\"\\nNon-Fraudulent Data Stats:\\n\", nonfraud_stats)\n",
    "fraud_stats = stats.describe(rec_loss_dist_fraud)\n",
    "print(\"\\nFraudulent Data Stats:\\n\", fraud_stats)\n"
   ]
  },
  {
   "cell_type": "code",
   "execution_count": 20,
   "metadata": {},
   "outputs": [],
   "source": [
    "#Initial threshold set to midpoint of the two means\n",
    "threshold = nonfraud_stats.mean + abs(fraud_stats.mean - nonfraud_stats.mean)/2\n"
   ]
  },
  {
   "cell_type": "code",
   "execution_count": 21,
   "metadata": {},
   "outputs": [
    {
     "data": {
      "application/vnd.jupyter.widget-view+json": {
       "model_id": "be1aac2d70154dafad71cb2a06c13d21",
       "version_major": 2,
       "version_minor": 0
      },
      "text/plain": [
       "HBox(children=(IntProgress(value=1, bar_style='info', max=1), HTML(value='')))"
      ]
     },
     "metadata": {},
     "output_type": "display_data"
    },
    {
     "name": "stdout",
     "output_type": "stream",
     "text": [
      "\n"
     ]
    }
   ],
   "source": [
    "y_pred = []\n",
    "\n",
    "for index, row in tqdm_notebook(X_test.iterrows()):\n",
    "     y_pred.append(predict(autoencoder, threshold, np.array([row.values])))\n",
    "        "
   ]
  },
  {
   "cell_type": "code",
   "execution_count": 22,
   "metadata": {},
   "outputs": [
    {
     "data": {
      "application/vnd.jupyter.widget-view+json": {
       "model_id": "b9fb998563be480b81bd5ffd89d9d1ab",
       "version_major": 2,
       "version_minor": 0
      },
      "text/plain": [
       "HBox(children=(IntProgress(value=1, bar_style='info', max=1), HTML(value='')))"
      ]
     },
     "metadata": {},
     "output_type": "display_data"
    },
    {
     "name": "stdout",
     "output_type": "stream",
     "text": [
      "\n"
     ]
    }
   ],
   "source": [
    "y_score = []\n",
    "\n",
    "for index, row in tqdm_notebook(X_test.iterrows()):\n",
    "     y_score.append(predict(autoencoder, -1, np.array([row.values])))"
   ]
  },
  {
   "cell_type": "code",
   "execution_count": 23,
   "metadata": {
    "scrolled": true
   },
   "outputs": [
    {
     "name": "stdout",
     "output_type": "stream",
     "text": [
      "Model Results\n",
      "[[56650   214]\n",
      " [   62    36]]\n",
      "\n",
      " Performance\n",
      "Accuracy:              0.9952\n",
      "Precision:              0.1440\n",
      "Recall:                 0.3673\n",
      "F1 Score:               0.2069\n"
     ]
    }
   ],
   "source": [
    "y_true = y_test\n",
    "conf = confusion_matrix(y_true, y_pred)\n",
    "tn, fp, fn, tp = conf.ravel()\n",
    "\n",
    "print(\"Model Results\")\n",
    "print(conf)\n",
    "\n",
    "precision = (tp / (tp + fp))\n",
    "recall = (tp / (tp + fn))\n",
    "f1_score = 2*precision*recall/(precision + recall)\n",
    "\n",
    "print ('\\n Performance')\n",
    "print (\"Accuracy:              %0.4f\" % accuracy_score(y_pred,y_true))\n",
    "print (\"Precision:              %0.4f\" % precision)\n",
    "print (\"Recall:                 %0.4f\"% recall)\n",
    "print (\"F1 Score:               %0.4f\"% f1_score)"
   ]
  },
  {
   "cell_type": "code",
   "execution_count": 24,
   "metadata": {},
   "outputs": [
    {
     "data": {
      "text/plain": [
       "(56962, 56962)"
      ]
     },
     "execution_count": 24,
     "metadata": {},
     "output_type": "execute_result"
    }
   ],
   "source": [
    "len(y_score), len(X_test)"
   ]
  },
  {
   "cell_type": "code",
   "execution_count": 25,
   "metadata": {},
   "outputs": [
    {
     "name": "stdout",
     "output_type": "stream",
     "text": [
      "AUC:               0.9494\n"
     ]
    },
    {
     "data": {
      "image/png": "[encoded data removed]",
      "text/plain": [
       "<Figure size 432x288 with 1 Axes>"
      ]
     },
     "metadata": {
      "needs_background": "light"
     },
     "output_type": "display_data"
    }
   ],
   "source": [
    "#AUC for autoencoder\n",
    "FPR, TPR, thresholds = roc_curve(y_test, y_score)\n",
    "roc_auc = auc(FPR, TPR,)\n",
    "print (\"AUC:               %0.4f\"% roc_auc)\n",
    "\n",
    "plt.plot(FPR, TPR)\n",
    "plt.plot([0,1],[0,1], linewidth=5)\n",
    "\n",
    "plt.xlim([-0.01, 1])\n",
    "plt.ylim([0, 1.01])\n",
    "plt.title('ROC Curve')\n",
    "plt.ylabel('TPR')\n",
    "plt.xlabel('FPR')\n",
    "plt.show()"
   ]
  },
  {
   "cell_type": "markdown",
   "metadata": {},
   "source": [
    "## To Do\n",
    "\n",
    "- Need to optimize neural network aka hyperparameter search\n",
    "- Generate PR curve functions"
   ]
  },
  {
   "cell_type": "code",
   "execution_count": null,
   "metadata": {},
   "outputs": [],
   "source": []
  }
 ],
 "metadata": {
  "kernelspec": {
   "display_name": "Python 3",
   "language": "python",
   "name": "python3"
  },
  "language_info": {
   "codemirror_mode": {
    "name": "ipython",
    "version": 3
   },
   "file_extension": ".py",
   "mimetype": "text/x-python",
   "name": "python",
   "nbconvert_exporter": "python",
   "pygments_lexer": "ipython3",
   "version": "3.6.5"
  },
  "toc": {
   "base_numbering": 1,
   "nav_menu": {},
   "number_sections": true,
   "sideBar": true,
   "skip_h1_title": false,
   "title_cell": "Table of Contents",
   "title_sidebar": "Contents",
   "toc_cell": false,
   "toc_position": {},
   "toc_section_display": true,
   "toc_window_display": false
  }
 },
 "nbformat": 4,
 "nbformat_minor": 2
}
