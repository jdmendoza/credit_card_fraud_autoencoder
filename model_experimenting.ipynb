{
 "cells": [
  {
   "cell_type": "markdown",
   "metadata": {},
   "source": [
    "# Detecting Credit Card Fraud With Autoencoder\n",
    "\n",
    "\n",
    "Approach: Apply another flexible supervised method (lightgbm) then try to match the performance with autoencoder"
   ]
  },
  {
   "cell_type": "code",
   "execution_count": 1,
   "metadata": {},
   "outputs": [],
   "source": [
    "import pandas as pd\n",
    "import numpy as np\n",
    "\n",
    "from sklearn.model_selection import train_test_split, cross_val_score\n",
    "from tqdm import tqdm, tqdm_notebook\n",
    "\n",
    "\n",
    "df_raw = pd.read_csv(\"data/creditcard.csv\")"
   ]
  },
  {
   "cell_type": "markdown",
   "metadata": {},
   "source": [
    "**Notes On Features**\n",
    "\n",
    "**Time:** Number of seconds elapsed between this transaction and the first transaction in the dataset\n",
    "\n",
    "**V1-V28:** may be result of a PCA Dimensionality reduction to protect user identities and sensitive features\n",
    "\n",
    "**Amount:** Transaction amount\n",
    "\n",
    "**Class:** 1 for fraudulent transactions, 0 otherwise"
   ]
  },
  {
   "cell_type": "code",
   "execution_count": 2,
   "metadata": {},
   "outputs": [],
   "source": [
    "from sklearn.preprocessing import StandardScaler\n",
    "\n",
    "df = df_raw\n",
    "df['Time'] = StandardScaler().fit_transform(df['Time'].values.reshape(-1, 1))\n",
    "df['Amount'] = StandardScaler().fit_transform(df['Amount'].values.reshape(-1, 1))"
   ]
  },
  {
   "cell_type": "code",
   "execution_count": 3,
   "metadata": {},
   "outputs": [],
   "source": [
    "y = df['Class']\n",
    "X = df.drop(['Class'],axis=1)\n",
    "\n",
    "X_train, X_test, y_train, y_test = train_test_split(X, y, test_size=0.2, stratify=y, random_state=10)"
   ]
  },
  {
   "cell_type": "code",
   "execution_count": 4,
   "metadata": {},
   "outputs": [
    {
     "data": {
      "text/plain": [
       "<Figure size 640x480 with 1 Axes>"
      ]
     },
     "metadata": {},
     "output_type": "display_data"
    }
   ],
   "source": [
    "import matplotlib.pyplot as plt\n",
    "\n",
    "plt.scatter(df_raw['Time'].index,df_raw['Time'])\n",
    "plt.show()"
   ]
  },
  {
   "cell_type": "markdown",
   "metadata": {},
   "source": [
    "# Bayesian Optimization + Light GMB"
   ]
  },
  {
   "cell_type": "code",
   "execution_count": 6,
   "metadata": {},
   "outputs": [
    {
     "name": "stdout",
     "output_type": "stream",
     "text": [
      "Iteration No: 1 started. Evaluating function at random point.\n",
      "Iteration No: 1 ended. Evaluation done at random point.\n",
      "Time taken: 23.0324\n",
      "Function value obtained: -0.2982\n",
      "Current minimum: -0.2982\n",
      "Iteration No: 2 started. Evaluating function at random point.\n",
      "Iteration No: 2 ended. Evaluation done at random point.\n",
      "Time taken: 10.4870\n",
      "Function value obtained: -0.4865\n",
      "Current minimum: -0.4865\n",
      "Iteration No: 3 started. Evaluating function at random point.\n"
     ]
    },
    {
     "name": "stderr",
     "output_type": "stream",
     "text": [
      "/Library/Frameworks/Python.framework/Versions/3.6/lib/python3.6/site-packages/sklearn/metrics/classification.py:1143: UndefinedMetricWarning: F-score is ill-defined and being set to 0.0 due to no predicted samples.\n",
      "  'precision', 'predicted', average, warn_for)\n"
     ]
    },
    {
     "name": "stdout",
     "output_type": "stream",
     "text": [
      "Iteration No: 3 ended. Evaluation done at random point.\n",
      "Time taken: 11.2656\n",
      "Function value obtained: -0.0000\n",
      "Current minimum: -0.4865\n",
      "Iteration No: 4 started. Evaluating function at random point.\n",
      "Iteration No: 4 ended. Evaluation done at random point.\n",
      "Time taken: 22.3889\n",
      "Function value obtained: -0.8405\n",
      "Current minimum: -0.8405\n",
      "Iteration No: 5 started. Evaluating function at random point.\n",
      "Iteration No: 5 ended. Evaluation done at random point.\n",
      "Time taken: 22.8810\n",
      "Function value obtained: -0.0623\n",
      "Current minimum: -0.8405\n",
      "Iteration No: 6 started. Evaluating function at random point.\n",
      "Iteration No: 6 ended. Evaluation done at random point.\n",
      "Time taken: 7.6747\n",
      "Function value obtained: -0.6910\n",
      "Current minimum: -0.8405\n",
      "Iteration No: 7 started. Evaluating function at random point.\n"
     ]
    },
    {
     "name": "stderr",
     "output_type": "stream",
     "text": [
      "/Library/Frameworks/Python.framework/Versions/3.6/lib/python3.6/site-packages/sklearn/metrics/classification.py:1143: UndefinedMetricWarning: F-score is ill-defined and being set to 0.0 due to no predicted samples.\n",
      "  'precision', 'predicted', average, warn_for)\n"
     ]
    },
    {
     "name": "stdout",
     "output_type": "stream",
     "text": [
      "Iteration No: 7 ended. Evaluation done at random point.\n",
      "Time taken: 19.6671\n",
      "Function value obtained: -0.0000\n",
      "Current minimum: -0.8405\n",
      "Iteration No: 8 started. Evaluating function at random point.\n"
     ]
    },
    {
     "name": "stderr",
     "output_type": "stream",
     "text": [
      "/Library/Frameworks/Python.framework/Versions/3.6/lib/python3.6/site-packages/sklearn/metrics/classification.py:1143: UndefinedMetricWarning: F-score is ill-defined and being set to 0.0 due to no predicted samples.\n",
      "  'precision', 'predicted', average, warn_for)\n"
     ]
    },
    {
     "name": "stdout",
     "output_type": "stream",
     "text": [
      "Iteration No: 8 ended. Evaluation done at random point.\n",
      "Time taken: 14.8708\n",
      "Function value obtained: -0.0000\n",
      "Current minimum: -0.8405\n",
      "Iteration No: 9 started. Evaluating function at random point.\n"
     ]
    },
    {
     "name": "stderr",
     "output_type": "stream",
     "text": [
      "/Library/Frameworks/Python.framework/Versions/3.6/lib/python3.6/site-packages/sklearn/metrics/classification.py:1143: UndefinedMetricWarning: F-score is ill-defined and being set to 0.0 due to no predicted samples.\n",
      "  'precision', 'predicted', average, warn_for)\n"
     ]
    },
    {
     "name": "stdout",
     "output_type": "stream",
     "text": [
      "Iteration No: 9 ended. Evaluation done at random point.\n",
      "Time taken: 19.6230\n",
      "Function value obtained: -0.0000\n",
      "Current minimum: -0.8405\n",
      "Iteration No: 10 started. Evaluating function at random point.\n",
      "Iteration No: 10 ended. Evaluation done at random point.\n",
      "Time taken: 27.5191\n",
      "Function value obtained: -0.0817\n",
      "Current minimum: -0.8405\n"
     ]
    }
   ],
   "source": [
    "import lightgbm as lgb\n",
    "from skopt import gp_minimize\n",
    "\n",
    "def objective(params):\n",
    "    learning_rate = 10. ** params[0]\n",
    "    num_leaves = params[1]\n",
    "    n_estimators = params[2]\n",
    "\n",
    "    lgbm = lgb.LGBMClassifier(\n",
    "        learning_rate=learning_rate,\n",
    "        num_leaves=num_leaves,\n",
    "        max_depth=8,\n",
    "        n_estimators=n_estimators,\n",
    "        verbose=0,\n",
    "    )\n",
    "\n",
    "    return -np.mean(cross_val_score(lgbm, X_train, y_train, cv=10, scoring='f1'))\n",
    "\n",
    "search_space = [(-5.0, 0.0), (2, 100), (2, 300)]\n",
    "\n",
    "r = gp_minimize(objective, search_space, n_calls=10, random_state=42, n_jobs=-1, verbose=True)"
   ]
  },
  {
   "cell_type": "code",
   "execution_count": 7,
   "metadata": {},
   "outputs": [
    {
     "data": {
      "text/plain": [
       "[-1.745557635255735, 8, 217]"
      ]
     },
     "execution_count": 7,
     "metadata": {},
     "output_type": "execute_result"
    },
    {
     "data": {
      "image/png": "[encoded data removed]",
      "text/plain": [
       "<Figure size 432x288 with 1 Axes>"
      ]
     },
     "metadata": {
      "needs_background": "light"
     },
     "output_type": "display_data"
    }
   ],
   "source": [
    "from skopt.plots import plot_convergence\n",
    "\n",
    "plot_convergence(r)\n",
    "best_params = r.x\n",
    "best_params"
   ]
  },
  {
   "cell_type": "code",
   "execution_count": 8,
   "metadata": {},
   "outputs": [],
   "source": [
    "final_lgbm = lgb.LGBMClassifier(num_leaves=best_params[1],\n",
    "                        learning_rate= 10 ** best_params[0],\n",
    "                        n_estimators=best_params[2],\n",
    "                        verbose=1)"
   ]
  },
  {
   "cell_type": "code",
   "execution_count": 9,
   "metadata": {},
   "outputs": [
    {
     "name": "stdout",
     "output_type": "stream",
     "text": [
      "Model Results\n",
      "[[56857     7]\n",
      " [   24    74]]\n",
      "\n",
      "\n",
      "Accuracy:              0.9995\n",
      "Precision:              0.9136\n",
      "Recall:                 0.7551\n",
      "F1 Score:               0.8268\n"
     ]
    }
   ],
   "source": [
    "from sklearn.metrics import confusion_matrix\n",
    "from sklearn.metrics import accuracy_score\n",
    "\n",
    "def final_model_test(X_all, y_all, X_test, y_test, model):\n",
    "    \n",
    "    model.fit(X_all, y_all)\n",
    "    y_pred = model.predict(X_test)\n",
    "    y_true = y_test\n",
    "    conf = confusion_matrix(y_true, y_pred)\n",
    "    tn, fp, fn, tp = conf.ravel()\n",
    "\n",
    "    print(\"Model Results\")\n",
    "\n",
    "    print(conf)\n",
    "\n",
    "    precision = (tp / (tp + fp))\n",
    "    recall = (tp / (tp + fn))\n",
    "    f1_score = 2*precision*recall/(precision + recall)\n",
    "\n",
    "    print ('\\n')\n",
    "    print (\"Accuracy:              %0.4f\" % accuracy_score(y_pred,y_true))\n",
    "    print (\"Precision:              %0.4f\" % precision)\n",
    "    print (\"Recall:                 %0.4f\"% recall)\n",
    "    print (\"F1 Score:               %0.4f\"% f1_score)\n",
    "\n",
    "final_model_test(X_train, y_train, X_test, y_test, final_lgbm)"
   ]
  },
  {
   "cell_type": "markdown",
   "metadata": {},
   "source": [
    "# Autoencoder Experiment"
   ]
  },
  {
   "cell_type": "code",
   "execution_count": 10,
   "metadata": {},
   "outputs": [],
   "source": [
    "#Split data by class for training/testing\n",
    "X_autoencoder = df.query('Class == 0').drop(['Class'],axis=1)\n",
    "Y_fraud = df.query('Class == 1').drop(['Class'],axis=1)\n",
    "\n",
    "X_train_autoencoder = X_autoencoder.sample(frac=0.8,random_state=42)\n",
    "X_test_autoencoder = X_autoencoder.drop(X_train_autoencoder.index)"
   ]
  },
  {
   "cell_type": "code",
   "execution_count": 11,
   "metadata": {},
   "outputs": [],
   "source": [
    "from sklearn.metrics import mean_squared_error\n",
    "\n",
    "#Renaming mse function to be consistent with literature\n",
    "reconstruction_loss = mean_squared_error\n"
   ]
  },
  {
   "cell_type": "code",
   "execution_count": 12,
   "metadata": {},
   "outputs": [
    {
     "name": "stderr",
     "output_type": "stream",
     "text": [
      "Using TensorFlow backend.\n",
      "/Library/Frameworks/Python.framework/Versions/3.6/lib/python3.6/importlib/_bootstrap.py:219: RuntimeWarning: compiletime version 3.5 of module 'tensorflow.python.framework.fast_tensor_util' does not match runtime version 3.6\n",
      "  return f(*args, **kwds)\n"
     ]
    },
    {
     "name": "stdout",
     "output_type": "stream",
     "text": [
      "Train on 227452 samples, validate on 56863 samples\n",
      "Epoch 1/20\n",
      "227452/227452 [==============================] - 8s 35us/step - loss: 0.7430 - val_loss: 0.6898\n",
      "Epoch 2/20\n",
      "227452/227452 [==============================] - 8s 33us/step - loss: 0.6595 - val_loss: 0.6563\n",
      "Epoch 3/20\n",
      "227452/227452 [==============================] - 8s 34us/step - loss: 0.6478 - val_loss: 0.6509\n",
      "Epoch 4/20\n",
      "227452/227452 [==============================] - 8s 33us/step - loss: 0.6440 - val_loss: 0.6482\n",
      "Epoch 5/20\n",
      "227452/227452 [==============================] - 8s 33us/step - loss: 0.6418 - val_loss: 0.6457\n",
      "Epoch 6/20\n",
      "227452/227452 [==============================] - 8s 34us/step - loss: 0.6402 - val_loss: 0.6452\n",
      "Epoch 7/20\n",
      "227452/227452 [==============================] - 8s 34us/step - loss: 0.6387 - val_loss: 0.6436\n",
      "Epoch 8/20\n",
      "227452/227452 [==============================] - 8s 35us/step - loss: 0.6372 - val_loss: 0.6413\n",
      "Epoch 9/20\n",
      "227452/227452 [==============================] - 8s 36us/step - loss: 0.6349 - val_loss: 0.6396\n",
      "Epoch 10/20\n",
      "227452/227452 [==============================] - 8s 35us/step - loss: 0.6334 - val_loss: 0.6376\n",
      "Epoch 11/20\n",
      "227452/227452 [==============================] - 8s 35us/step - loss: 0.6322 - val_loss: 0.6367\n",
      "Epoch 12/20\n",
      "227452/227452 [==============================] - 8s 37us/step - loss: 0.6314 - val_loss: 0.6367\n",
      "Epoch 13/20\n",
      "227452/227452 [==============================] - 8s 37us/step - loss: 0.6306 - val_loss: 0.6360\n",
      "Epoch 14/20\n",
      "227452/227452 [==============================] - 8s 36us/step - loss: 0.6300 - val_loss: 0.6348\n",
      "Epoch 15/20\n",
      "227452/227452 [==============================] - 8s 37us/step - loss: 0.6296 - val_loss: 0.6342\n",
      "Epoch 16/20\n",
      "227452/227452 [==============================] - 8s 36us/step - loss: 0.6293 - val_loss: 0.6335\n",
      "Epoch 17/20\n",
      "227452/227452 [==============================] - 9s 38us/step - loss: 0.6287 - val_loss: 0.6332\n",
      "Epoch 18/20\n",
      "227452/227452 [==============================] - 10s 44us/step - loss: 0.6282 - val_loss: 0.6330\n",
      "Epoch 19/20\n",
      "227452/227452 [==============================] - 11s 47us/step - loss: 0.6278 - val_loss: 0.6324\n",
      "Epoch 20/20\n",
      "227452/227452 [==============================] - 10s 44us/step - loss: 0.6275 - val_loss: 0.6324\n"
     ]
    },
    {
     "data": {
      "text/plain": [
       "<keras.callbacks.History at 0x153c06668>"
      ]
     },
     "execution_count": 12,
     "metadata": {},
     "output_type": "execute_result"
    }
   ],
   "source": [
    "from keras.layers import Input, Dense\n",
    "from keras.models import Model, Sequential\n",
    "\n",
    "epochs = 20\n",
    "batch_size = 128\n",
    "input_dim = X_train_autoencoder.shape[1] #num of columns, 30\n",
    "encoding_dim = 14\n",
    "hidden_dim = int(encoding_dim / 2) #i.e. 7\n",
    "learning_rate = 1e-7\n",
    "\n",
    "input_layer = Input(shape=(input_dim, ))\n",
    "encoder = Dense(encoding_dim, activation=\"tanh\")(input_layer)\n",
    "encoder = Dense(hidden_dim, activation=\"relu\")(encoder)\n",
    "decoder = Dense(hidden_dim, activation='relu')(encoder)\n",
    "decoder = Dense(input_dim, activation='tanh')(decoder)\n",
    "autoencoder = Model(inputs=input_layer, outputs=decoder)\n",
    "\n",
    "autoencoder.compile(loss='mean_squared_error', optimizer='adam')\n",
    "\n",
    "autoencoder.fit(X_train_autoencoder, X_train_autoencoder, epochs=epochs, validation_data=(X_test_autoencoder, X_test_autoencoder))\n",
    "\n"
   ]
  },
  {
   "cell_type": "code",
   "execution_count": 13,
   "metadata": {},
   "outputs": [],
   "source": [
    "def predict(trained_model, set_threshold, input_data):\n",
    "    predicted_array = trained_model.predict(input_data)\n",
    "    instance_rec_loss = reconstruction_loss(input_data, predicted_array)\n",
    "    \n",
    "    if set_threshold == -1:\n",
    "        return instance_rec_loss\n",
    "    \n",
    "    elif instance_rec_loss >= set_threshold:\n",
    "        return 1\n",
    "    \n",
    "    else:\n",
    "        return 0"
   ]
  },
  {
   "cell_type": "code",
   "execution_count": 14,
   "metadata": {},
   "outputs": [
    {
     "data": {
      "application/vnd.jupyter.widget-view+json": {
       "model_id": "27f1d7e1cb0640d093fe412f2a61bc4c",
       "version_major": 2,
       "version_minor": 0
      },
      "text/plain": [
       "HBox(children=(IntProgress(value=0, max=284315), HTML(value='')))"
      ]
     },
     "metadata": {},
     "output_type": "display_data"
    },
    {
     "name": "stdout",
     "output_type": "stream",
     "text": [
      "\n"
     ]
    },
    {
     "data": {
      "application/vnd.jupyter.widget-view+json": {
       "model_id": "6cd5c82206504ddea88aa8bdf57365e6",
       "version_major": 2,
       "version_minor": 0
      },
      "text/plain": [
       "HBox(children=(IntProgress(value=0, max=492), HTML(value='')))"
      ]
     },
     "metadata": {},
     "output_type": "display_data"
    },
    {
     "name": "stdout",
     "output_type": "stream",
     "text": [
      "\n"
     ]
    }
   ],
   "source": [
    "from scipy import stats\n",
    "\n",
    "rec_loss_dist_nonfraud = [predict(autoencoder,-1,np.array(X_autoencoder.iloc[n:n+1,:])) for n in tqdm_notebook(range(len(X_autoencoder)))]\n",
    "rec_loss_dist_fraud = [predict(autoencoder,-1,np.array(Y_fraud.iloc[n:n+1,:])) for n in tqdm_notebook(range(len(Y_fraud)))]\n"
   ]
  },
  {
   "cell_type": "code",
   "execution_count": 15,
   "metadata": {},
   "outputs": [
    {
     "name": "stdout",
     "output_type": "stream",
     "text": [
      "Descriptive Statistics of Reconstruction Loss (ALL DATA) \n",
      "\n",
      "\n",
      "Non-Fraudulent Data Stats:\n",
      " DescribeResult(nobs=284315, minmax=(0.02172820340202991, 1784.659718625746), mean=0.6281872949385339, variance=22.35959673715611, skewness=207.65428300736588, kurtosis=72541.27908277376)\n",
      "\n",
      "Fraudulent Data Stats:\n",
      " DescribeResult(nobs=492, minmax=(0.09053274102064703, 270.9527012457573), mean=25.689544009881313, variance=1325.6655595714487, skewness=2.451565153705062, kurtosis=8.406893493510983)\n"
     ]
    }
   ],
   "source": [
    "print(\"Descriptive Statistics of Reconstruction Loss (ALL DATA) \\n\")\n",
    "\n",
    "nonfraud_stats = stats.describe(rec_loss_dist_nonfraud)\n",
    "print(\"\\nNon-Fraudulent Data Stats:\\n\", nonfraud_stats)\n",
    "fraud_stats = stats.describe(rec_loss_dist_fraud)\n",
    "print(\"\\nFraudulent Data Stats:\\n\", fraud_stats)\n"
   ]
  },
  {
   "cell_type": "code",
   "execution_count": 16,
   "metadata": {},
   "outputs": [],
   "source": [
    "#Initial threshold set to midpoint of the two means\n",
    "threshold = nonfraud_stats.mean + abs(fraud_stats.mean - nonfraud_stats.mean)/2\n"
   ]
  },
  {
   "cell_type": "code",
   "execution_count": 17,
   "metadata": {},
   "outputs": [
    {
     "data": {
      "application/vnd.jupyter.widget-view+json": {
       "model_id": "b18ff385d8da4632a240cdabb7c49d93",
       "version_major": 2,
       "version_minor": 0
      },
      "text/plain": [
       "HBox(children=(IntProgress(value=1, bar_style='info', max=1), HTML(value='')))"
      ]
     },
     "metadata": {},
     "output_type": "display_data"
    },
    {
     "name": "stdout",
     "output_type": "stream",
     "text": [
      "\n"
     ]
    }
   ],
   "source": [
    "y_pred = []\n",
    "\n",
    "for index, row in tqdm_notebook(X_test.iterrows()):\n",
    "     y_pred.append(predict(autoencoder, threshold, np.array([row.values])))\n",
    "        "
   ]
  },
  {
   "cell_type": "code",
   "execution_count": 18,
   "metadata": {},
   "outputs": [
    {
     "name": "stdout",
     "output_type": "stream",
     "text": [
      "Model Results\n",
      "[[56664   200]\n",
      " [   61    37]]\n",
      "\n",
      " Performance\n",
      "Accuracy:              0.9954\n",
      "Precision:              0.1561\n",
      "Recall:                 0.3776\n",
      "F1 Score:               0.2209\n"
     ]
    }
   ],
   "source": [
    "y_true = y_test\n",
    "conf = confusion_matrix(y_true, y_pred)\n",
    "tn, fp, fn, tp = conf.ravel()\n",
    "\n",
    "print(\"Model Results\")\n",
    "print(conf)\n",
    "\n",
    "precision = (tp / (tp + fp))\n",
    "recall = (tp / (tp + fn))\n",
    "f1_score = 2*precision*recall/(precision + recall)\n",
    "\n",
    "print ('\\n Performance')\n",
    "print (\"Accuracy:              %0.4f\" % accuracy_score(y_pred,y_true))\n",
    "print (\"Precision:              %0.4f\" % precision)\n",
    "print (\"Recall:                 %0.4f\"% recall)\n",
    "print (\"F1 Score:               %0.4f\"% f1_score)"
   ]
  },
  {
   "cell_type": "markdown",
   "metadata": {},
   "source": [
    "## To Do\n",
    "\n",
    "- Need to optimize neural network aka hyperparameter search\n",
    "- Add an auc portion for selecting threshold"
   ]
  },
  {
   "cell_type": "code",
   "execution_count": null,
   "metadata": {},
   "outputs": [],
   "source": []
  }
 ],
 "metadata": {
  "kernelspec": {
   "display_name": "Python 3",
   "language": "python",
   "name": "python3"
  },
  "language_info": {
   "codemirror_mode": {
    "name": "ipython",
    "version": 3
   },
   "file_extension": ".py",
   "mimetype": "text/x-python",
   "name": "python",
   "nbconvert_exporter": "python",
   "pygments_lexer": "ipython3",
   "version": "3.6.5"
  },
  "toc": {
   "base_numbering": 1,
   "nav_menu": {},
   "number_sections": true,
   "sideBar": true,
   "skip_h1_title": false,
   "title_cell": "Table of Contents",
   "title_sidebar": "Contents",
   "toc_cell": false,
   "toc_position": {},
   "toc_section_display": true,
   "toc_window_display": false
  }
 },
 "nbformat": 4,
 "nbformat_minor": 2
}
